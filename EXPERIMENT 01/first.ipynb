{
 "cells": [
  {
   "cell_type": "code",
   "execution_count": 7,
   "id": "779758f3",
   "metadata": {},
   "outputs": [
    {
     "name": "stdout",
     "output_type": "stream",
     "text": [
      "Squares of positive numbers: [1, 16, 36]\n"
     ]
    }
   ],
   "source": [
    "# QUESTION 1 \n",
    "def square_positive_numbers(nums):\n",
    "    return [x**2 for x in nums if x > 0]\n",
    "\n",
    "# Example\n",
    "input_list = [1, -3, 4, -2, 6]\n",
    "print(\"Squares of positive numbers:\", square_positive_numbers(input_list))\n"
   ]
  },
  {
   "cell_type": "code",
   "execution_count": 8,
   "id": "6ee7f586",
   "metadata": {},
   "outputs": [
    {
     "name": "stdout",
     "output_type": "stream",
     "text": [
      "[3, 4]\n"
     ]
    }
   ],
   "source": [
    "# QUESTION 2\n",
    "def common_elements(list1, list2):\n",
    "    return list(set(list1) & set(list2))\n",
    "\n",
    "# Example\n",
    "print(common_elements([1, 2, 3, 4], [3, 4, 5, 6]))\n"
   ]
  },
  {
   "cell_type": "code",
   "execution_count": 9,
   "id": "3ba07e9c",
   "metadata": {},
   "outputs": [
    {
     "name": "stdout",
     "output_type": "stream",
     "text": [
      "[1, 2, 3, 4, 5]\n"
     ]
    }
   ],
   "source": [
    "# QUESTION 3\n",
    "def remove_duplicates(lst):\n",
    "    seen = set()\n",
    "    result = []\n",
    "    for item in lst:\n",
    "        if item not in seen:\n",
    "            result.append(item)\n",
    "            seen.add(item)\n",
    "    return result\n",
    "\n",
    "# Example\n",
    "print(remove_duplicates([1, 2, 2, 3, 4, 4, 5]))\n",
    "\n"
   ]
  },
  {
   "cell_type": "code",
   "execution_count": 10,
   "id": "b264e0c1",
   "metadata": {},
   "outputs": [
    {
     "name": "stdout",
     "output_type": "stream",
     "text": [
      "[[1, 6], [8, 10], [15, 18]]\n"
     ]
    }
   ],
   "source": [
    "# QUESTION 4\n",
    "def merge_intervals(intervals):\n",
    "    if not intervals:\n",
    "        return []\n",
    "    intervals.sort(key=lambda x: x[0])\n",
    "    merged = [intervals[0]]\n",
    "    for current in intervals[1:]:\n",
    "        last = merged[-1]\n",
    "        if current[0] <= last[1]:\n",
    "            last[1] = max(last[1], current[1])\n",
    "        else:\n",
    "            merged.append(current)\n",
    "    return merged\n",
    "\n",
    "# Example\n",
    "print(merge_intervals([[1, 3], [2, 6], [8, 10], [15, 18]]))\n"
   ]
  },
  {
   "cell_type": "code",
   "execution_count": 11,
   "id": "785ebd37",
   "metadata": {},
   "outputs": [
    {
     "name": "stdout",
     "output_type": "stream",
     "text": [
      "2\n"
     ]
    }
   ],
   "source": [
    "# QUESTION 5\n",
    "def binary_search(arr, target):\n",
    "    left, right = 0, len(arr) - 1\n",
    "    while left <= right:\n",
    "        mid = (left + right) // 2\n",
    "        if arr[mid] == target:\n",
    "            return mid\n",
    "        elif arr[mid] < target:\n",
    "            left = mid + 1\n",
    "        else:\n",
    "            right = mid - 1\n",
    "    return -1\n",
    "\n",
    "# Example\n",
    "print(binary_search([1, 3, 5, 7, 9], 5))\n"
   ]
  },
  {
   "cell_type": "code",
   "execution_count": 12,
   "id": "6da72085",
   "metadata": {},
   "outputs": [
    {
     "name": "stdout",
     "output_type": "stream",
     "text": [
      "[[1, 4], [2, 5], [3, 6]]\n"
     ]
    }
   ],
   "source": [
    "# QUESTION 6\n",
    "def transpose_matrix(matrix):\n",
    "    return [list(row) for row in zip(*matrix)]\n",
    "\n",
    "# Example\n",
    "print(transpose_matrix([[1, 2, 3], [4, 5, 6]]))\n"
   ]
  },
  {
   "cell_type": "code",
   "execution_count": 13,
   "id": "6d925837",
   "metadata": {},
   "outputs": [
    {
     "name": "stdout",
     "output_type": "stream",
     "text": [
      "[]\n"
     ]
    }
   ],
   "source": [
    "# QUESTION 7\n",
    "def find_factors(n):\n",
    "    return [i for i in range(1, n+1) if n % i == 0]\n",
    "\n",
    "def factor_2D_list(lst):\n",
    "    return [find_factors(x) for x in lst]\n",
    "\n",
    "# Input\n",
    "user_input = list(map(int, input(\"Enter 5 integers: \").split()))\n",
    "print(factor_2D_list(user_input))\n"
   ]
  },
  {
   "cell_type": "code",
   "execution_count": 14,
   "id": "55660bea",
   "metadata": {},
   "outputs": [
    {
     "name": "stdout",
     "output_type": "stream",
     "text": [
      "Students Marks\n",
      "Arjun\t91\n",
      "Ram\t85\n",
      "Bharat\t78\n"
     ]
    }
   ],
   "source": [
    "#QUESTION 8\n",
    "def sort_students(students):\n",
    "    sorted_students = sorted(students, key=lambda x: x[1], reverse=True)\n",
    "    print(\"Students Marks\")\n",
    "    for name, marks in sorted_students:\n",
    "        print(f\"{name}\\t{marks}\")\n",
    "\n",
    "# Example\n",
    "students = [(\"Ram\", 85), (\"Bharat\", 78), (\"Arjun\", 91)]\n",
    "sort_students(students)\n"
   ]
  },
  {
   "cell_type": "code",
   "execution_count": 15,
   "id": "c40d2299",
   "metadata": {},
   "outputs": [
    {
     "name": "stdout",
     "output_type": "stream",
     "text": [
      "{}\n"
     ]
    }
   ],
   "source": [
    "# QUESTION 9\n",
    "def count_letters_freq(s):\n",
    "    s = s.lower().replace(\" \", \"\")\n",
    "    freq = {}\n",
    "    for char in s:\n",
    "        if char.isalpha():\n",
    "            freq[char] = freq.get(char, 0) + 1\n",
    "    return freq\n",
    "\n",
    "# Example\n",
    "input_str = input(\"Enter a string: \")\n",
    "print(count_letters_freq(input_str))\n"
   ]
  },
  {
   "cell_type": "code",
   "execution_count": 16,
   "id": "ce636501",
   "metadata": {},
   "outputs": [
    {
     "name": "stdout",
     "output_type": "stream",
     "text": [
      "[5, 7, 8, 7, 5]\n"
     ]
    }
   ],
   "source": [
    "# QUESTION 10\n",
    "\n",
    "from collections import Counter\n",
    "\n",
    "def remove_most_repeating(lst):\n",
    "    count = Counter(lst)\n",
    "    most_common = count.most_common(1)[0][0]\n",
    "    return [x for x in lst if x != most_common]\n",
    "\n",
    "# Example\n",
    "print(remove_most_repeating([4, 5, 7, 4, 4, 8, 7, 5]))\n"
   ]
  }
 ],
 "metadata": {
  "kernelspec": {
   "display_name": "Python 3",
   "language": "python",
   "name": "python3"
  },
  "language_info": {
   "codemirror_mode": {
    "name": "ipython",
    "version": 3
   },
   "file_extension": ".py",
   "mimetype": "text/x-python",
   "name": "python",
   "nbconvert_exporter": "python",
   "pygments_lexer": "ipython3",
   "version": "3.13.3"
  }
 },
 "nbformat": 4,
 "nbformat_minor": 5
}
